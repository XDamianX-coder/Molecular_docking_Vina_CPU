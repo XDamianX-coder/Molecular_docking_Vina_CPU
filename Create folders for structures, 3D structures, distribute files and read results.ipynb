{
 "cells": [
  {
   "cell_type": "code",
   "execution_count": 1,
   "id": "8fe7b5aa",
   "metadata": {},
   "outputs": [],
   "source": [
    "import pandas as pd\n",
    "\n",
    "import os\n",
    "import shutil\n",
    "\n",
    "from rdkit import Chem\n",
    "from rdkit.Chem import Draw\n",
    "from rdkit.Chem import AllChem\n",
    "\n",
    "import glob"
   ]
  },
  {
   "cell_type": "code",
   "execution_count": 2,
   "id": "f79cd921",
   "metadata": {},
   "outputs": [],
   "source": [
    "excel_sheet = glob.glob('*.xlsx')"
   ]
  },
  {
   "cell_type": "code",
   "execution_count": 3,
   "id": "10ceb3aa",
   "metadata": {},
   "outputs": [
    {
     "data": {
      "text/plain": [
       "['structures__.xlsx']"
      ]
     },
     "execution_count": 3,
     "metadata": {},
     "output_type": "execute_result"
    }
   ],
   "source": [
    "excel_sheet"
   ]
  },
  {
   "cell_type": "code",
   "execution_count": 4,
   "id": "c5fcc0ee",
   "metadata": {},
   "outputs": [
    {
     "name": "stdout",
     "output_type": "stream",
     "text": [
      "['pub_1', 'pub_2', 'pub_3']\n"
     ]
    }
   ],
   "source": [
    "sheets = pd.ExcelFile(excel_sheet[0]).sheet_names\n",
    "print(sheets)"
   ]
  },
  {
   "cell_type": "code",
   "execution_count": 5,
   "id": "34f85a84",
   "metadata": {},
   "outputs": [],
   "source": [
    "test = True\n",
    "if test == True:\n",
    "    sheets = ['pub_1']\n",
    "else:\n",
    "    sheets = sheets"
   ]
  },
  {
   "cell_type": "code",
   "execution_count": 6,
   "id": "7ab0706a",
   "metadata": {},
   "outputs": [],
   "source": [
    "dat_list = ['data'+sheet for sheet in sheets]"
   ]
  },
  {
   "cell_type": "code",
   "execution_count": 7,
   "id": "0d0d35ad",
   "metadata": {},
   "outputs": [],
   "source": [
    "for i, element in enumerate(sheets):\n",
    "    dat_list[i] = pd.read_excel(excel_sheet[0], sheet_name=element)"
   ]
  },
  {
   "cell_type": "code",
   "execution_count": 8,
   "id": "c0d29894",
   "metadata": {},
   "outputs": [
    {
     "data": {
      "text/html": [
       "<div>\n",
       "<style scoped>\n",
       "    .dataframe tbody tr th:only-of-type {\n",
       "        vertical-align: middle;\n",
       "    }\n",
       "\n",
       "    .dataframe tbody tr th {\n",
       "        vertical-align: top;\n",
       "    }\n",
       "\n",
       "    .dataframe thead th {\n",
       "        text-align: right;\n",
       "    }\n",
       "</style>\n",
       "<table border=\"1\" class=\"dataframe\">\n",
       "  <thead>\n",
       "    <tr style=\"text-align: right;\">\n",
       "      <th></th>\n",
       "      <th>numer struktury</th>\n",
       "      <th>SMILES</th>\n",
       "      <th>Klasa</th>\n",
       "    </tr>\n",
       "  </thead>\n",
       "  <tbody>\n",
       "    <tr>\n",
       "      <th>0</th>\n",
       "      <td>1</td>\n",
       "      <td>C12=CC=CC=C1NC=C2COCC3=CN(CCCN4N=NC(COCC5=CNC6...</td>\n",
       "      <td>publikacja_1</td>\n",
       "    </tr>\n",
       "    <tr>\n",
       "      <th>1</th>\n",
       "      <td>2</td>\n",
       "      <td>C12=CC=CC=C1NC=C2COCC3=CN(CCCCCCCCN4N=NC(COCC5...</td>\n",
       "      <td>publikacja_1</td>\n",
       "    </tr>\n",
       "    <tr>\n",
       "      <th>2</th>\n",
       "      <td>3</td>\n",
       "      <td>[N-]=[N+]=NCC1=C(CN2N=NC(COCC3=CNC4=C3C=CC=C4)...</td>\n",
       "      <td>publikacja_1</td>\n",
       "    </tr>\n",
       "    <tr>\n",
       "      <th>3</th>\n",
       "      <td>4</td>\n",
       "      <td>[N-]=[N+]=NCC1=CC=C(CN2N=NC(COCC3=CNC4=C3C=CC=...</td>\n",
       "      <td>publikacja_1</td>\n",
       "    </tr>\n",
       "    <tr>\n",
       "      <th>4</th>\n",
       "      <td>5</td>\n",
       "      <td>O=C(C)N(C1=C2C=CC=C1)C=C2CN3N=NC(COCC4=CNC5=C4...</td>\n",
       "      <td>publikacja_1</td>\n",
       "    </tr>\n",
       "  </tbody>\n",
       "</table>\n",
       "</div>"
      ],
      "text/plain": [
       "   numer struktury                                             SMILES  \\\n",
       "0                1  C12=CC=CC=C1NC=C2COCC3=CN(CCCN4N=NC(COCC5=CNC6...   \n",
       "1                2  C12=CC=CC=C1NC=C2COCC3=CN(CCCCCCCCN4N=NC(COCC5...   \n",
       "2                3  [N-]=[N+]=NCC1=C(CN2N=NC(COCC3=CNC4=C3C=CC=C4)...   \n",
       "3                4  [N-]=[N+]=NCC1=CC=C(CN2N=NC(COCC3=CNC4=C3C=CC=...   \n",
       "4                5  O=C(C)N(C1=C2C=CC=C1)C=C2CN3N=NC(COCC4=CNC5=C4...   \n",
       "\n",
       "          Klasa  \n",
       "0  publikacja_1  \n",
       "1  publikacja_1  \n",
       "2  publikacja_1  \n",
       "3  publikacja_1  \n",
       "4  publikacja_1  "
      ]
     },
     "execution_count": 8,
     "metadata": {},
     "output_type": "execute_result"
    }
   ],
   "source": [
    "dat_list[0]"
   ]
  },
  {
   "cell_type": "markdown",
   "id": "544529b8",
   "metadata": {},
   "source": [
    "## Create directories"
   ]
  },
  {
   "cell_type": "code",
   "execution_count": 9,
   "id": "bcafa74a",
   "metadata": {},
   "outputs": [
    {
     "data": {
      "text/plain": [
       "'C:\\\\Users\\\\aleks\\\\Documents\\\\GitHub\\\\Molecular_docking_Vina_CPU'"
      ]
     },
     "execution_count": 9,
     "metadata": {},
     "output_type": "execute_result"
    }
   ],
   "source": [
    "#to get the current working directory\n",
    "directory = os.getcwd()\n",
    "directory"
   ]
  },
  {
   "cell_type": "code",
   "execution_count": 10,
   "id": "eefb1b35",
   "metadata": {},
   "outputs": [
    {
     "name": "stderr",
     "output_type": "stream",
     "text": [
      "C:\\Users\\aleks\\AppData\\Local\\Temp\\ipykernel_25884\\409050264.py:17: SettingWithCopyWarning: \n",
      "A value is trying to be set on a copy of a slice from a DataFrame\n",
      "\n",
      "See the caveats in the documentation: https://pandas.pydata.org/pandas-docs/stable/user_guide/indexing.html#returning-a-view-versus-a-copy\n",
      "  collection['destenation'][num] = os.path.join(directory, str('ligand'+str(num+1)+'_'))\n",
      "C:\\Users\\aleks\\anaconda3\\envs\\cheminf_gpu\\lib\\site-packages\\pandas\\core\\indexing.py:1637: SettingWithCopyWarning: \n",
      "A value is trying to be set on a copy of a slice from a DataFrame\n",
      "\n",
      "See the caveats in the documentation: https://pandas.pydata.org/pandas-docs/stable/user_guide/indexing.html#returning-a-view-versus-a-copy\n",
      "  self._setitem_single_block(indexer, value, name)\n"
     ]
    }
   ],
   "source": [
    "list_dir = []\n",
    "\n",
    "for df in dat_list:\n",
    "    df['destenation'] = 0\n",
    "    \n",
    "for collection in dat_list:\n",
    "    for num in list(collection.index):\n",
    "        if len(dat_list) > 1:\n",
    "            \n",
    "            os.mkdir(os.path.join(directory, str('lig'+str(num+1)+'_'+collection['Klasa'][num])))\n",
    "            collection['destenation'][num] = os.path.join(directory, str('lig'+str(num+1)+'_'+collection['Klasa'][num]))\n",
    "            list_dir.append(os.path.join(directory, str('lig'+str(num+1)+'_'+collection['Klasa'][num])))\n",
    "            \n",
    "        else:\n",
    "            \n",
    "            os.mkdir(os.path.join(directory, str('ligand'+str(num+1)+'_')))\n",
    "            collection['destenation'][num] = os.path.join(directory, str('ligand'+str(num+1)+'_'))\n",
    "            list_dir.append(os.path.join(directory, str('ligand'+str(num+1)+'_')))\n",
    "            "
   ]
  },
  {
   "cell_type": "code",
   "execution_count": 11,
   "id": "2c1404bc",
   "metadata": {},
   "outputs": [
    {
     "data": {
      "text/html": [
       "<div>\n",
       "<style scoped>\n",
       "    .dataframe tbody tr th:only-of-type {\n",
       "        vertical-align: middle;\n",
       "    }\n",
       "\n",
       "    .dataframe tbody tr th {\n",
       "        vertical-align: top;\n",
       "    }\n",
       "\n",
       "    .dataframe thead th {\n",
       "        text-align: right;\n",
       "    }\n",
       "</style>\n",
       "<table border=\"1\" class=\"dataframe\">\n",
       "  <thead>\n",
       "    <tr style=\"text-align: right;\">\n",
       "      <th></th>\n",
       "      <th>numer struktury</th>\n",
       "      <th>SMILES</th>\n",
       "      <th>Klasa</th>\n",
       "      <th>destenation</th>\n",
       "    </tr>\n",
       "  </thead>\n",
       "  <tbody>\n",
       "    <tr>\n",
       "      <th>0</th>\n",
       "      <td>1</td>\n",
       "      <td>C12=CC=CC=C1NC=C2COCC3=CN(CCCN4N=NC(COCC5=CNC6...</td>\n",
       "      <td>publikacja_1</td>\n",
       "      <td>C:\\Users\\aleks\\Documents\\GitHub\\Molecular_dock...</td>\n",
       "    </tr>\n",
       "    <tr>\n",
       "      <th>1</th>\n",
       "      <td>2</td>\n",
       "      <td>C12=CC=CC=C1NC=C2COCC3=CN(CCCCCCCCN4N=NC(COCC5...</td>\n",
       "      <td>publikacja_1</td>\n",
       "      <td>C:\\Users\\aleks\\Documents\\GitHub\\Molecular_dock...</td>\n",
       "    </tr>\n",
       "    <tr>\n",
       "      <th>2</th>\n",
       "      <td>3</td>\n",
       "      <td>[N-]=[N+]=NCC1=C(CN2N=NC(COCC3=CNC4=C3C=CC=C4)...</td>\n",
       "      <td>publikacja_1</td>\n",
       "      <td>C:\\Users\\aleks\\Documents\\GitHub\\Molecular_dock...</td>\n",
       "    </tr>\n",
       "    <tr>\n",
       "      <th>3</th>\n",
       "      <td>4</td>\n",
       "      <td>[N-]=[N+]=NCC1=CC=C(CN2N=NC(COCC3=CNC4=C3C=CC=...</td>\n",
       "      <td>publikacja_1</td>\n",
       "      <td>C:\\Users\\aleks\\Documents\\GitHub\\Molecular_dock...</td>\n",
       "    </tr>\n",
       "    <tr>\n",
       "      <th>4</th>\n",
       "      <td>5</td>\n",
       "      <td>O=C(C)N(C1=C2C=CC=C1)C=C2CN3N=NC(COCC4=CNC5=C4...</td>\n",
       "      <td>publikacja_1</td>\n",
       "      <td>C:\\Users\\aleks\\Documents\\GitHub\\Molecular_dock...</td>\n",
       "    </tr>\n",
       "  </tbody>\n",
       "</table>\n",
       "</div>"
      ],
      "text/plain": [
       "   numer struktury                                             SMILES  \\\n",
       "0                1  C12=CC=CC=C1NC=C2COCC3=CN(CCCN4N=NC(COCC5=CNC6...   \n",
       "1                2  C12=CC=CC=C1NC=C2COCC3=CN(CCCCCCCCN4N=NC(COCC5...   \n",
       "2                3  [N-]=[N+]=NCC1=C(CN2N=NC(COCC3=CNC4=C3C=CC=C4)...   \n",
       "3                4  [N-]=[N+]=NCC1=CC=C(CN2N=NC(COCC3=CNC4=C3C=CC=...   \n",
       "4                5  O=C(C)N(C1=C2C=CC=C1)C=C2CN3N=NC(COCC4=CNC5=C4...   \n",
       "\n",
       "          Klasa                                        destenation  \n",
       "0  publikacja_1  C:\\Users\\aleks\\Documents\\GitHub\\Molecular_dock...  \n",
       "1  publikacja_1  C:\\Users\\aleks\\Documents\\GitHub\\Molecular_dock...  \n",
       "2  publikacja_1  C:\\Users\\aleks\\Documents\\GitHub\\Molecular_dock...  \n",
       "3  publikacja_1  C:\\Users\\aleks\\Documents\\GitHub\\Molecular_dock...  \n",
       "4  publikacja_1  C:\\Users\\aleks\\Documents\\GitHub\\Molecular_dock...  "
      ]
     },
     "execution_count": 11,
     "metadata": {},
     "output_type": "execute_result"
    }
   ],
   "source": [
    "dat_list[0]"
   ]
  },
  {
   "cell_type": "code",
   "execution_count": 12,
   "id": "41166323",
   "metadata": {},
   "outputs": [
    {
     "data": {
      "text/plain": [
       "'C:\\\\Users\\\\aleks\\\\Documents\\\\GitHub\\\\Molecular_docking_Vina_CPU\\\\ligand1_'"
      ]
     },
     "execution_count": 12,
     "metadata": {},
     "output_type": "execute_result"
    }
   ],
   "source": [
    "dat_list[0]['destenation'][0]"
   ]
  },
  {
   "cell_type": "code",
   "execution_count": 13,
   "id": "774bd6f4",
   "metadata": {},
   "outputs": [
    {
     "data": {
      "text/plain": [
       "['C:\\\\Users\\\\aleks\\\\Documents\\\\GitHub\\\\Molecular_docking_Vina_CPU\\\\ligand1_',\n",
       " 'C:\\\\Users\\\\aleks\\\\Documents\\\\GitHub\\\\Molecular_docking_Vina_CPU\\\\ligand2_',\n",
       " 'C:\\\\Users\\\\aleks\\\\Documents\\\\GitHub\\\\Molecular_docking_Vina_CPU\\\\ligand3_',\n",
       " 'C:\\\\Users\\\\aleks\\\\Documents\\\\GitHub\\\\Molecular_docking_Vina_CPU\\\\ligand4_',\n",
       " 'C:\\\\Users\\\\aleks\\\\Documents\\\\GitHub\\\\Molecular_docking_Vina_CPU\\\\ligand5_']"
      ]
     },
     "execution_count": 13,
     "metadata": {},
     "output_type": "execute_result"
    }
   ],
   "source": [
    "tmp_ = pd.DataFrame(data=list_dir, columns=['Name'])\n",
    "tmp_.to_excel('to_be_moved_to.xlsx')\n",
    "list_dir"
   ]
  },
  {
   "cell_type": "markdown",
   "id": "0f21e0ba",
   "metadata": {},
   "source": [
    "## Create mol objects instead of SMILES"
   ]
  },
  {
   "cell_type": "code",
   "execution_count": 14,
   "id": "bbb8e24a",
   "metadata": {},
   "outputs": [],
   "source": [
    "def create_PDB_from_SMILES_list(smiles_list):\n",
    "    mols = []\n",
    "    for smi in smiles_list:\n",
    "        try:\n",
    "            new = Chem.MolFromSmiles(smi)\n",
    "            mols.append(new)\n",
    "        except:\n",
    "            print(\"Error:\"+str(smi))\n",
    "    mols_H = []\n",
    "    for mol in mols:\n",
    "        try:\n",
    "            new_1 = Chem.AddHs(mol)\n",
    "            new_2 = AllChem.EmbedMolecule(new_1, randomSeed=0xf00d)\n",
    "            mols_H.append(new_1)\n",
    "        except:\n",
    "            print(\"Error:\"+str(Chem.MolToSmiles(mol)))\n",
    "    #files_creation\n",
    "    for i in range(len(mols_H)):\n",
    "        try:\n",
    "            Chem.rdmolfiles.MolToPDBFile(mols_H[i], \"3D_structure\"+'_'+str(i+1)+str(smiles_list[i][0:5])+'.pdb')\n",
    "        except:\n",
    "            print(\"Something went wrong while creating PDB file...\")\n",
    "    return mols_H"
   ]
  },
  {
   "cell_type": "code",
   "execution_count": 15,
   "id": "0fbf77d2",
   "metadata": {},
   "outputs": [],
   "source": [
    "def create_PDB_from_SMILES(smiles, initial_dir, destenation_dir, name):\n",
    "    try:\n",
    "        mol = Chem.MolFromSmiles(smiles)\n",
    "    except:\n",
    "        print(\"There is an error when preparing molecule: \"+str(smiles))\n",
    "        \n",
    "    try:\n",
    "        new_mol = Chem.AddHs(mol)\n",
    "        AllChem.EmbedMolecule(new_mol, randomSeed=0xf00d)\n",
    "    except:\n",
    "        print(\"Error:\"+str(smiles))\n",
    "    \n",
    "    try:\n",
    "        Chem.rdmolfiles.MolToPDBFile(new_mol, \"3D_structure\"+'_'+str(name)+'_'+str(smiles[0:30])+'.pdb')\n",
    "        move_generated_structure(initial_dir, \"3D_structure\"+'_'+str(name)+'_'+str(smiles[0:30])+'.pdb', destenation_dir)\n",
    "    except:\n",
    "        print(\"Something went wrong while creating PDB file...\")\n",
    "        \n",
    "    return new_mol\n",
    "        "
   ]
  },
  {
   "cell_type": "code",
   "execution_count": 16,
   "id": "d0e30220",
   "metadata": {},
   "outputs": [],
   "source": [
    "def get_visualization_of_SMILES(smiles_list):\n",
    "    \n",
    "    mol = [Chem.MolFromSmiles(smi) for smi in smiles_list]\n",
    "    \n",
    "    return Draw.MolsToGridImage(mol,legends=[str(\"Molecule SMILES: \"+str(smi)+' Molecule number: '+str(x+1)) for x, smi in enumerate(smiles_list)], molsPerRow=1, maxMols=int(len(mol)), subImgSize=(500, 500))"
   ]
  },
  {
   "cell_type": "code",
   "execution_count": 17,
   "id": "77f7b615",
   "metadata": {},
   "outputs": [],
   "source": [
    "def move_generated_structure(initial_dir, name_of_file, destenation_dir):\n",
    "    ini = initial_dir+'\\\\'+name_of_file\n",
    "    des = destenation_dir+'\\\\'+name_of_file\n",
    "    shutil.move(ini, des)\n",
    "    return print(\"Correctly moved...\")"
   ]
  },
  {
   "cell_type": "code",
   "execution_count": 18,
   "id": "1f373a25",
   "metadata": {},
   "outputs": [
    {
     "data": {
      "image/png": "[encoded data removed]",
      "text/plain": [
       "<IPython.core.display.Image object>"
      ]
     },
     "execution_count": 18,
     "metadata": {},
     "output_type": "execute_result"
    }
   ],
   "source": [
    "try:\n",
    "    zx = get_visualization_of_SMILES(dat_list[0]['SMILES']) ## It depends on how many sheets are in the main excel file\n",
    "    zx\n",
    "except:\n",
    "    print(\"There are no more sheets in the initial excel file...\")\n",
    "    zx = 0\n",
    "zx"
   ]
  },
  {
   "cell_type": "code",
   "execution_count": 19,
   "id": "9ae92dab",
   "metadata": {},
   "outputs": [
    {
     "name": "stdout",
     "output_type": "stream",
     "text": [
      "There are no more sheets in the initial excel file...\n"
     ]
    },
    {
     "data": {
      "text/plain": [
       "0"
      ]
     },
     "execution_count": 19,
     "metadata": {},
     "output_type": "execute_result"
    }
   ],
   "source": [
    "try:\n",
    "    zx = get_visualization_of_SMILES(dat_list[1]['SMILES']) ## It depends on how many sheets are in the main excel file\n",
    "    zx\n",
    "except:\n",
    "    print(\"There are no more sheets in the initial excel file...\")\n",
    "    zx = 0\n",
    "zx"
   ]
  },
  {
   "cell_type": "code",
   "execution_count": 20,
   "id": "78489abf",
   "metadata": {},
   "outputs": [
    {
     "name": "stdout",
     "output_type": "stream",
     "text": [
      "There are no more sheets in the initial excel file...\n"
     ]
    },
    {
     "data": {
      "text/plain": [
       "0"
      ]
     },
     "execution_count": 20,
     "metadata": {},
     "output_type": "execute_result"
    }
   ],
   "source": [
    "try:\n",
    "    zx = get_visualization_of_SMILES(dat_list[2]['SMILES']) ## It depends on how many sheets are in the main excel file\n",
    "    zx\n",
    "except:\n",
    "    print(\"There are no more sheets in the initial excel file...\")\n",
    "    zx = 0\n",
    "zx"
   ]
  },
  {
   "cell_type": "code",
   "execution_count": 21,
   "id": "c04be191",
   "metadata": {},
   "outputs": [
    {
     "name": "stdout",
     "output_type": "stream",
     "text": [
      "Correctly moved...\n",
      "Correctly moved...\n",
      "Correctly moved...\n",
      "Correctly moved...\n",
      "Correctly moved...\n"
     ]
    }
   ],
   "source": [
    "try:\n",
    "    for df in dat_list:\n",
    "        for i, smile in enumerate(df['SMILES']):\n",
    "            create_PDB_from_SMILES(smile, directory, df['destenation'][i], df['Klasal'][i])\n",
    "\n",
    "except:\n",
    "    for i, smile in enumerate(dat_list[0]['SMILES']):\n",
    "        create_PDB_from_SMILES(smile, directory, dat_list[0]['destenation'][i], 'ligand__'+str(i+1))\n",
    "        "
   ]
  },
  {
   "cell_type": "markdown",
   "id": "4b770afb",
   "metadata": {},
   "source": [
    "## load all the ligands"
   ]
  },
  {
   "cell_type": "code",
   "execution_count": 22,
   "id": "ed53a304",
   "metadata": {},
   "outputs": [
    {
     "name": "stdout",
     "output_type": "stream",
     "text": [
      "['ligand1_', 'ligand2_', 'ligand3_', 'ligand4_', 'ligand5_']\n"
     ]
    }
   ],
   "source": [
    "files = glob.glob(\"lig*\")\n",
    "print(files)"
   ]
  },
  {
   "cell_type": "code",
   "execution_count": 23,
   "id": "b05aa82a",
   "metadata": {},
   "outputs": [],
   "source": [
    "pdbs = []\n",
    "for pdb in files:\n",
    "    pdb = glob.glob(pdb+str('\\\\3D*'))\n",
    "    pdbs.append(pdb)"
   ]
  },
  {
   "cell_type": "code",
   "execution_count": 24,
   "id": "bef98eca",
   "metadata": {},
   "outputs": [
    {
     "data": {
      "text/plain": [
       "[['ligand1_\\\\3D_structure_ligand__1_C12=CC=CC=C1NC=C2COCC3=CN(CCCN.pdb'],\n",
       " ['ligand2_\\\\3D_structure_ligand__2_C12=CC=CC=C1NC=C2COCC3=CN(CCCC.pdb'],\n",
       " ['ligand3_\\\\3D_structure_ligand__3_[N-]=[N+]=NCC1=C(CN2N=NC(COCC3.pdb'],\n",
       " ['ligand4_\\\\3D_structure_ligand__4_[N-]=[N+]=NCC1=CC=C(CN2N=NC(CO.pdb'],\n",
       " ['ligand5_\\\\3D_structure_ligand__5_O=C(C)N(C1=C2C=CC=C1)C=C2CN3N=.pdb']]"
      ]
     },
     "execution_count": 24,
     "metadata": {},
     "output_type": "execute_result"
    }
   ],
   "source": [
    "pdbs"
   ]
  },
  {
   "cell_type": "code",
   "execution_count": 25,
   "id": "4fbb1b6b",
   "metadata": {},
   "outputs": [
    {
     "data": {
      "text/plain": [
       "'ligand2_\\\\3D_structure_ligand__2_C12=CC=CC=C1NC=C2COCC3=CN(CCCC.pdb'"
      ]
     },
     "execution_count": 25,
     "metadata": {},
     "output_type": "execute_result"
    }
   ],
   "source": [
    "pdbs[1][0]"
   ]
  },
  {
   "cell_type": "code",
   "execution_count": 26,
   "id": "8ce85cdb",
   "metadata": {},
   "outputs": [],
   "source": [
    "with open('Prepare_pdbqt_from_pdb.txt', 'w') as f:\n",
    "    for line in pdbs:\n",
    "        f.write('obabel ')\n",
    "        f.write(str(\"'\")+line[0]+str(\"'\"))\n",
    "        f.write(' -O ')\n",
    "        f.write(line[0].split('\\\\')[0]+str('\\\\')+line[0].split('\\\\')[0]+str('.pdbqt'))\n",
    "        f.write('\\n')"
   ]
  },
  {
   "cell_type": "markdown",
   "id": "4b7b5cc3",
   "metadata": {},
   "source": [
    "## Run generated code in the command prompt in the direcotry where the file is created"
   ]
  },
  {
   "cell_type": "markdown",
   "id": "9d7d5cc1",
   "metadata": {},
   "source": [
    "## distribute protein - the receptor should be prepared before running below code in the *.pdbqt file (with polar H)"
   ]
  },
  {
   "cell_type": "code",
   "execution_count": 27,
   "id": "8628fc45",
   "metadata": {},
   "outputs": [
    {
     "name": "stdout",
     "output_type": "stream",
     "text": [
      "Please use the name given for your protein domain after preparation... (For example 5v5z_polar_H.pdbqt) : 2q85_polar_H.pdbqt\n"
     ]
    }
   ],
   "source": [
    "name_of_prepared_receptor = str(input('Please use the name given for your protein domain after preparation... (For example 5v5z_polar_H.pdbqt) : '))"
   ]
  },
  {
   "cell_type": "code",
   "execution_count": 28,
   "id": "92e4bfa7",
   "metadata": {},
   "outputs": [],
   "source": [
    "to_be_moved_to = list_dir"
   ]
  },
  {
   "cell_type": "code",
   "execution_count": 29,
   "id": "21847be9",
   "metadata": {},
   "outputs": [
    {
     "data": {
      "text/plain": [
       "'ligand1_'"
      ]
     },
     "execution_count": 29,
     "metadata": {},
     "output_type": "execute_result"
    }
   ],
   "source": [
    "to_be_moved_to[0].split(\"\\\\\")[-1]"
   ]
  },
  {
   "cell_type": "code",
   "execution_count": 30,
   "id": "7ea1758f",
   "metadata": {},
   "outputs": [
    {
     "data": {
      "text/plain": [
       "'C:\\\\Users\\\\aleks\\\\Documents\\\\GitHub\\\\Molecular_docking_Vina_CPU\\\\ligand1_'"
      ]
     },
     "execution_count": 30,
     "metadata": {},
     "output_type": "execute_result"
    }
   ],
   "source": [
    "to_be_moved_to[0]"
   ]
  },
  {
   "cell_type": "markdown",
   "id": "89367f27",
   "metadata": {},
   "source": [
    "## The initial config file should be prepared before running this code, exemplary one is in the repo"
   ]
  },
  {
   "cell_type": "code",
   "execution_count": 31,
   "id": "4d9d23f6",
   "metadata": {},
   "outputs": [],
   "source": [
    "with open('config.txt') as f:\n",
    "    lines = f.readlines()"
   ]
  },
  {
   "cell_type": "code",
   "execution_count": 32,
   "id": "3212a978",
   "metadata": {},
   "outputs": [
    {
     "data": {
      "text/plain": [
       "['receptor = 2q85_polar_H.pdbqt\\n',\n",
       " 'ligand = 3D_structure_publikacja_1_C12=CC=CC=C1NC=C2COCC3=CN(CCCN_pub1_lig_1.pdbqt\\n',\n",
       " '\\n',\n",
       " 'center_x = 13.853\\n',\n",
       " 'center_y = 0.000\\n',\n",
       " 'center_z = 0.000\\n',\n",
       " '\\n',\n",
       " 'size_x = 80\\n',\n",
       " 'size_y = 80\\n',\n",
       " 'size_z = 80\\n',\n",
       " '\\n',\n",
       " 'out = blind_try_lig_1_pub_1.pdbqt\\n',\n",
       " '\\n',\n",
       " 'exhaustiveness = 64\\n']"
      ]
     },
     "execution_count": 32,
     "metadata": {},
     "output_type": "execute_result"
    }
   ],
   "source": [
    "lines"
   ]
  },
  {
   "cell_type": "code",
   "execution_count": 33,
   "id": "87445c1f",
   "metadata": {},
   "outputs": [],
   "source": [
    "run_multiple_mol_doc = True #it changes the config.txt file in order to conduct more MDs\n",
    "if run_multiple_mol_doc == True:\n",
    "    \n",
    "    for folder in to_be_moved_to:\n",
    "        shutil.copy(name_of_prepared_receptor, folder)\n",
    "        shutil.copy('config.txt', folder)\n",
    "        with open(str(folder+str('\\\\config.txt'))) as f:\n",
    "            lines = f.readlines()\n",
    "            lines[0] = str('receptor = '+folder.split(\"\\\\\")[-1]+'\\\\'+'2q85_polar_H.pdbqt')\n",
    "            lines[1] = str('ligand = '+folder.split(\"\\\\\")[-1]+'\\\\'+folder.split(\"\\\\\")[-1]+'.pdbqt')\n",
    "            lines[11] = str('out = '+folder.split(\"\\\\\")[-1]+'\\\\docking_result_'+folder.split(\"\\\\\")[-1]+'.pdbqt')\n",
    "        with open(str(folder+str('\\\\config.txt')), 'w') as f:\n",
    "        \n",
    "            for line in lines:\n",
    "                f.write(line)\n",
    "                f.write('\\n')\n",
    "else:\n",
    "    for folder in to_be_moved_to:\n",
    "        shutil.copy(name_of_prepared_receptor, folder)\n",
    "        shutil.copy('config.txt', folder)\n",
    "        with open(str(folder+str('\\\\config.txt'))) as f:\n",
    "            lines = f.readlines()\n",
    "            lines[1] = str('ligand = '+folder.split(\"\\\\\")[-1]+'.pdbqt')\n",
    "            lines[11] = str('out = docking_result_'+folder.split(\"\\\\\")[-1]+'.pdbqt')\n",
    "        with open(str(folder+str('\\\\config.txt')), 'w') as f:\n",
    "        \n",
    "            for line in lines:\n",
    "                f.write(line)\n",
    "                f.write('\\n')\n",
    "                \n",
    "                \n",
    "                \n",
    "## Copy ligands to one directory\n",
    "try:\n",
    "    os.mkdir(\"Prepared_ligands\")\n",
    "except:\n",
    "    pass\n",
    "ligands_in_one_dir = False\n",
    "if ligands_in_one_dir is not True:\n",
    "    ligands_names = []\n",
    "    for folder_name in to_be_moved_to:\n",
    "        ligands_names.append(folder_name.split(\"\\\\\")[-1]+str('\\\\')+folder_name.split(\"\\\\\")[-1]+'.pdbqt')\n",
    "    for directory, file in enumerate(ligands_names):\n",
    "        shutil.copy(file, 'Prepared_ligands\\\\')\n",
    "            \n",
    "            \n",
    "## Distribute ligands if prepared\n",
    "pdbqt_lingands_prepared = True\n",
    "if pdbqt_lingands_prepared == True:\n",
    "    ligands_names = []\n",
    "    for folder_name in to_be_moved_to:\n",
    "        ligands_names.append(folder_name.split(\"\\\\\")[-1]+'.pdbqt')\n",
    "    for directory, ligand in enumerate(ligands_names):\n",
    "        shutil.copy('Prepared_ligands\\\\'+str(ligand), to_be_moved_to[directory])"
   ]
  },
  {
   "cell_type": "markdown",
   "id": "b77e8b73",
   "metadata": {},
   "source": [
    "## prepare one file to be executed via prompt"
   ]
  },
  {
   "cell_type": "code",
   "execution_count": 34,
   "id": "8c037e9f",
   "metadata": {},
   "outputs": [],
   "source": [
    "with open('to_be_executed.txt', 'w') as f:\n",
    "    for element in to_be_moved_to:\n",
    "        f.write('vina --config ')\n",
    "        f.write(str(element.split(\"\\\\\")[-1]))\n",
    "        f.write('\\config.txt --log ')\n",
    "        f.write(str(element.split(\"\\\\\")[-1]))\n",
    "        f.write('\\MD_log_.txt &')\n",
    "        f.write('\\n')"
   ]
  },
  {
   "cell_type": "markdown",
   "id": "30bb6024",
   "metadata": {},
   "source": [
    "# Run after molecular docking procedure is completed - after execution of \"to_be_executed.txt\" "
   ]
  },
  {
   "cell_type": "markdown",
   "id": "ace3679e",
   "metadata": {},
   "source": [
    "## load molecular docking results into table"
   ]
  },
  {
   "cell_type": "code",
   "execution_count": 35,
   "id": "131a35e1",
   "metadata": {},
   "outputs": [],
   "source": [
    "import pandas as pd"
   ]
  },
  {
   "cell_type": "code",
   "execution_count": 36,
   "id": "92085491",
   "metadata": {},
   "outputs": [],
   "source": [
    "to_be_moved_to = pd.read_excel('to_be_moved_to.xlsx')\n",
    "to_be_moved_to = list(to_be_moved_to['Name'])"
   ]
  },
  {
   "cell_type": "code",
   "execution_count": 37,
   "id": "dac13fa9",
   "metadata": {},
   "outputs": [
    {
     "data": {
      "text/plain": [
       "'C:\\\\Users\\\\aleks\\\\Documents\\\\GitHub\\\\Molecular_docking_Vina_CPU\\\\ligand1_'"
      ]
     },
     "execution_count": 37,
     "metadata": {},
     "output_type": "execute_result"
    }
   ],
   "source": [
    "to_be_moved_to[0]"
   ]
  },
  {
   "cell_type": "code",
   "execution_count": 39,
   "id": "d1ce4b17",
   "metadata": {},
   "outputs": [],
   "source": [
    "with open(str(to_be_moved_to[0]+str('\\\\MD_log_.txt'))) as f:\n",
    "    lines = f.readlines()"
   ]
  },
  {
   "cell_type": "code",
   "execution_count": 40,
   "id": "c6c93688",
   "metadata": {},
   "outputs": [
    {
     "data": {
      "text/plain": [
       "['#################################################################\\n',\n",
       " '# If you used AutoDock Vina in your work, please cite:          #\\n',\n",
       " '#                                                               #\\n',\n",
       " '# O. Trott, A. J. Olson,                                        #\\n',\n",
       " '# AutoDock Vina: improving the speed and accuracy of docking    #\\n',\n",
       " '# with a new scoring function, efficient optimization and       #\\n',\n",
       " '# multithreading, Journal of Computational Chemistry 31 (2010)  #\\n',\n",
       " '# 455-461                                                       #\\n',\n",
       " '#                                                               #\\n',\n",
       " '# DOI 10.1002/jcc.21334                                         #\\n',\n",
       " '#                                                               #\\n',\n",
       " '# Please see http://vina.scripps.edu for more information.      #\\n',\n",
       " '#################################################################\\n',\n",
       " '\\n',\n",
       " 'WARNING: The search space volume > 27000 Angstrom^3 (See FAQ)\\n',\n",
       " 'Detected 16 CPUs\\n',\n",
       " 'Reading input ... done.\\n',\n",
       " 'Setting up the scoring function ... done.\\n',\n",
       " 'Analyzing the binding site ... done.\\n',\n",
       " 'Using random seed: 1453425780\\n',\n",
       " 'Performing search ... done.\\n',\n",
       " 'Refining results ... done.\\n',\n",
       " '\\n',\n",
       " 'mode |   affinity | dist from best mode\\n',\n",
       " '     | (kcal/mol) | rmsd l.b.| rmsd u.b.\\n',\n",
       " '-----+------------+----------+----------\\n',\n",
       " '   1        -11.0      0.000      0.000\\n',\n",
       " '   2        -10.0      2.817      4.571\\n',\n",
       " '   3         -9.8      2.856      4.422\\n',\n",
       " '   4         -9.5      7.059     12.187\\n',\n",
       " '   5         -9.5      2.424      3.469\\n',\n",
       " '   6         -9.4      8.471     13.046\\n',\n",
       " '   7         -9.4      2.436      4.250\\n',\n",
       " '   8         -9.4      6.987     12.309\\n',\n",
       " '   9         -9.3      8.189     13.637\\n',\n",
       " 'Writing output ... done.\\n']"
      ]
     },
     "execution_count": 40,
     "metadata": {},
     "output_type": "execute_result"
    }
   ],
   "source": [
    "lines"
   ]
  },
  {
   "cell_type": "code",
   "execution_count": 41,
   "id": "0290e442",
   "metadata": {},
   "outputs": [
    {
     "data": {
      "text/plain": [
       "'   1        -11.0      0.000      0.000\\n'"
      ]
     },
     "execution_count": 41,
     "metadata": {},
     "output_type": "execute_result"
    }
   ],
   "source": [
    "lines[-10]"
   ]
  },
  {
   "cell_type": "code",
   "execution_count": 42,
   "id": "2a2294df",
   "metadata": {},
   "outputs": [
    {
     "data": {
      "text/plain": [
       "'-11.0 '"
      ]
     },
     "execution_count": 42,
     "metadata": {},
     "output_type": "execute_result"
    }
   ],
   "source": [
    "lines[-10][12:18]"
   ]
  },
  {
   "cell_type": "code",
   "execution_count": 43,
   "id": "74c702f9",
   "metadata": {},
   "outputs": [],
   "source": [
    "affinities = []\n",
    "for element in lines[-10:-1]:\n",
    "    affinities.append(element[12:18])"
   ]
  },
  {
   "cell_type": "code",
   "execution_count": 44,
   "id": "501e8466",
   "metadata": {},
   "outputs": [
    {
     "data": {
      "text/plain": [
       "['-11.0 ',\n",
       " '-10.0 ',\n",
       " ' -9.8 ',\n",
       " ' -9.5 ',\n",
       " ' -9.5 ',\n",
       " ' -9.4 ',\n",
       " ' -9.4 ',\n",
       " ' -9.4 ',\n",
       " ' -9.3 ']"
      ]
     },
     "execution_count": 44,
     "metadata": {},
     "output_type": "execute_result"
    }
   ],
   "source": [
    "affinities"
   ]
  },
  {
   "cell_type": "code",
   "execution_count": 45,
   "id": "fcd96c70",
   "metadata": {},
   "outputs": [
    {
     "data": {
      "text/plain": [
       "-11.0"
      ]
     },
     "execution_count": 45,
     "metadata": {},
     "output_type": "execute_result"
    }
   ],
   "source": [
    "float(affinities[0])"
   ]
  },
  {
   "cell_type": "code",
   "execution_count": 46,
   "id": "d84a4ea1",
   "metadata": {},
   "outputs": [],
   "source": [
    "floats = [float(x) for x in affinities]"
   ]
  },
  {
   "cell_type": "markdown",
   "id": "9795ba07",
   "metadata": {},
   "source": [
    "## construct dataframe"
   ]
  },
  {
   "cell_type": "code",
   "execution_count": 47,
   "id": "fdb646ec",
   "metadata": {},
   "outputs": [],
   "source": [
    "df = pd.DataFrame(data=floats, columns=[str(to_be_moved_to[0].split(\"\\\\\")[-1])])"
   ]
  },
  {
   "cell_type": "code",
   "execution_count": 48,
   "id": "15ed1992",
   "metadata": {},
   "outputs": [
    {
     "data": {
      "text/html": [
       "<div>\n",
       "<style scoped>\n",
       "    .dataframe tbody tr th:only-of-type {\n",
       "        vertical-align: middle;\n",
       "    }\n",
       "\n",
       "    .dataframe tbody tr th {\n",
       "        vertical-align: top;\n",
       "    }\n",
       "\n",
       "    .dataframe thead th {\n",
       "        text-align: right;\n",
       "    }\n",
       "</style>\n",
       "<table border=\"1\" class=\"dataframe\">\n",
       "  <thead>\n",
       "    <tr style=\"text-align: right;\">\n",
       "      <th></th>\n",
       "      <th>ligand1_</th>\n",
       "    </tr>\n",
       "  </thead>\n",
       "  <tbody>\n",
       "    <tr>\n",
       "      <th>0</th>\n",
       "      <td>-11.0</td>\n",
       "    </tr>\n",
       "    <tr>\n",
       "      <th>1</th>\n",
       "      <td>-10.0</td>\n",
       "    </tr>\n",
       "    <tr>\n",
       "      <th>2</th>\n",
       "      <td>-9.8</td>\n",
       "    </tr>\n",
       "    <tr>\n",
       "      <th>3</th>\n",
       "      <td>-9.5</td>\n",
       "    </tr>\n",
       "    <tr>\n",
       "      <th>4</th>\n",
       "      <td>-9.5</td>\n",
       "    </tr>\n",
       "    <tr>\n",
       "      <th>5</th>\n",
       "      <td>-9.4</td>\n",
       "    </tr>\n",
       "    <tr>\n",
       "      <th>6</th>\n",
       "      <td>-9.4</td>\n",
       "    </tr>\n",
       "    <tr>\n",
       "      <th>7</th>\n",
       "      <td>-9.4</td>\n",
       "    </tr>\n",
       "    <tr>\n",
       "      <th>8</th>\n",
       "      <td>-9.3</td>\n",
       "    </tr>\n",
       "  </tbody>\n",
       "</table>\n",
       "</div>"
      ],
      "text/plain": [
       "   ligand1_\n",
       "0     -11.0\n",
       "1     -10.0\n",
       "2      -9.8\n",
       "3      -9.5\n",
       "4      -9.5\n",
       "5      -9.4\n",
       "6      -9.4\n",
       "7      -9.4\n",
       "8      -9.3"
      ]
     },
     "execution_count": 48,
     "metadata": {},
     "output_type": "execute_result"
    }
   ],
   "source": [
    "df"
   ]
  },
  {
   "cell_type": "code",
   "execution_count": null,
   "id": "daa4e8b5",
   "metadata": {},
   "outputs": [],
   "source": [
    "to_be_moved_to__ = to_be_moved_to.copy()\n",
    "for i, directory in enumerate(to_be_moved_to):\n",
    "    \n",
    "    with open(str(directory+str('\\\\MD_log_.txt'))) as f:\n",
    "        lines = f.readlines()\n",
    "    \n",
    "    affinities = []\n",
    "    for element in lines[-10:-1]:\n",
    "        affinities.append(element[12:18])\n",
    "    \n",
    "    floats = [float(x) for x in affinities]\n",
    "    \n",
    "    to_be_moved_to__[i] = pd.DataFrame(data=floats, columns=[str(directory.split(\"\\\\\")[-1])])"
   ]
  },
  {
   "cell_type": "code",
   "execution_count": null,
   "id": "64e90a72",
   "metadata": {},
   "outputs": [],
   "source": [
    "to_be_moved_to__[0]"
   ]
  },
  {
   "cell_type": "code",
   "execution_count": null,
   "id": "e7b6f3e5",
   "metadata": {},
   "outputs": [],
   "source": [
    "concat = pd.concat(to_be_moved_to__, axis=1)"
   ]
  },
  {
   "cell_type": "code",
   "execution_count": null,
   "id": "52c599a3",
   "metadata": {},
   "outputs": [],
   "source": [
    "concat"
   ]
  },
  {
   "cell_type": "code",
   "execution_count": null,
   "id": "75dc43ec",
   "metadata": {},
   "outputs": [],
   "source": [
    "concat.to_excel('docking_results_'+str(input(\"Name of protein domain...\"))+str('.xlsx'))"
   ]
  },
  {
   "cell_type": "code",
   "execution_count": null,
   "id": "35d2733b",
   "metadata": {},
   "outputs": [],
   "source": [
    "to_be_moved_to__[0].to_excel('docking_results_'+str(input(\"Name of protein domain...\"))+str('.xlsx'))"
   ]
  }
 ],
 "metadata": {
  "kernelspec": {
   "display_name": "Python 3 (ipykernel)",
   "language": "python",
   "name": "python3"
  },
  "language_info": {
   "codemirror_mode": {
    "name": "ipython",
    "version": 3
   },
   "file_extension": ".py",
   "mimetype": "text/x-python",
   "name": "python",
   "nbconvert_exporter": "python",
   "pygments_lexer": "ipython3",
   "version": "3.9.15"
  }
 },
 "nbformat": 4,
 "nbformat_minor": 5
}
